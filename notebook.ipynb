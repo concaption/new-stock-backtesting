{
 "cells": [
  {
   "cell_type": "code",
   "execution_count": 8,
   "metadata": {},
   "outputs": [
    {
     "name": "stderr",
     "output_type": "stream",
     "text": [
      "2025-01-14 21:43:09,508 - INFO - Loaded 20 holidays and 4 early closing days\n"
     ]
    }
   ],
   "source": [
    "import os\n",
    "import asyncio\n",
    "from datetime import datetime, timedelta\n",
    "import aiohttp\n",
    "from pydantic import BaseModel, Field, validator\n",
    "from dotenv import load_dotenv\n",
    "import logging\n",
    "import json\n",
    "from typing import List, Optional\n",
    "from openpyxl import Workbook\n",
    "from openpyxl.styles import Font, PatternFill, Alignment\n",
    "from openpyxl.utils import get_column_letter\n",
    "from google_trends import GoogleTrendsAnalyzer\n",
    "from trading_calendar import TradingCalendar\n",
    "\n",
    "# Load environment variables\n",
    "load_dotenv()\n",
    "POLYGON_API_KEY = os.getenv(\"POLYGON_API_KEY\")\n",
    "SERPAPI_KEY = os.getenv(\"SERPAPI_KEY\")\n",
    "session = aiohttp.ClientSession()\n",
    "\n",
    "gt = GoogleTrendsAnalyzer(trading_calendar=TradingCalendar())"
   ]
  },
  {
   "cell_type": "code",
   "execution_count": null,
   "metadata": {},
   "outputs": [
    {
     "name": "stderr",
     "output_type": "stream",
     "text": [
      "2025-01-14 21:46:46,565 - ERROR - Exception fetching trends for tesla: time data '1736283600' does not match format '%Y-%m-%dT%H:%M:%S.%fZ'\n"
     ]
    }
   ],
   "source": [
    "test_date = datetime.strptime(\"2024-04-01\", \"%Y-%m-%d\")\n",
    "await gt.fetch_trends_data(session=session, keyword=\"tesla\", current_date=test_date)"
   ]
  },
  {
   "cell_type": "code",
   "execution_count": null,
   "metadata": {},
   "outputs": [
    {
     "name": "stderr",
     "output_type": "stream",
     "text": [
      "2025-01-14 21:44:45,564 - ERROR - Exception fetching trends for tesla: time data '1736283600' does not match format '%Y-%m-%dT%H:%M:%S.%fZ'\n"
     ]
    }
   ],
   "source": []
  },
  {
   "cell_type": "code",
   "execution_count": 2,
   "metadata": {},
   "outputs": [
    {
     "ename": "NameError",
     "evalue": "name 'gt' is not defined",
     "output_type": "error",
     "traceback": [
      "\u001b[0;31m---------------------------------------------------------------------------\u001b[0m",
      "\u001b[0;31mNameError\u001b[0m                                 Traceback (most recent call last)",
      "Cell \u001b[0;32mIn[2], line 7\u001b[0m\n\u001b[1;32m      4\u001b[0m date_in_datetime \u001b[38;5;241m=\u001b[39m datetime\u001b[38;5;241m.\u001b[39mstrptime(date, \u001b[38;5;124m\"\u001b[39m\u001b[38;5;124m%\u001b[39m\u001b[38;5;124mY-\u001b[39m\u001b[38;5;124m%\u001b[39m\u001b[38;5;124mm-\u001b[39m\u001b[38;5;132;01m%d\u001b[39;00m\u001b[38;5;124m\"\u001b[39m)\n\u001b[1;32m      5\u001b[0m formatted_date \u001b[38;5;241m=\u001b[39m date_in_datetime\u001b[38;5;241m.\u001b[39mstrftime(\u001b[38;5;124m'\u001b[39m\u001b[38;5;124m%\u001b[39m\u001b[38;5;124mY-\u001b[39m\u001b[38;5;124m%\u001b[39m\u001b[38;5;124mm-\u001b[39m\u001b[38;5;132;01m%d\u001b[39;00m\u001b[38;5;124mT\u001b[39m\u001b[38;5;124m%\u001b[39m\u001b[38;5;124mH:\u001b[39m\u001b[38;5;124m%\u001b[39m\u001b[38;5;124mM:\u001b[39m\u001b[38;5;124m%\u001b[39m\u001b[38;5;124mS.\u001b[39m\u001b[38;5;132;01m%f\u001b[39;00m\u001b[38;5;124mZ\u001b[39m\u001b[38;5;124m'\u001b[39m)\n\u001b[0;32m----> 7\u001b[0m \u001b[38;5;28;01mawait\u001b[39;00m \u001b[43mgt\u001b[49m\u001b[38;5;241m.\u001b[39mfetch_trends_data(session\u001b[38;5;241m=\u001b[39msession, keyword\u001b[38;5;241m=\u001b[39m\u001b[38;5;124m\"\u001b[39m\u001b[38;5;124mtesla\u001b[39m\u001b[38;5;124m\"\u001b[39m, current_date\u001b[38;5;241m=\u001b[39mdate_in_datetime)\n",
      "\u001b[0;31mNameError\u001b[0m: name 'gt' is not defined"
     ]
    }
   ],
   "source": [
    "from datetime import datetime\n",
    "\n",
    "date = \"2024-01-01\"\n",
    "date_in_datetime = datetime.strptime(date, \"%Y-%m-%d\")\n",
    "formatted_date = date_in_datetime.strftime('%Y-%m-%dT%H:%M:%S.%fZ')\n",
    "\n",
    "await gt.fetch_trends_data(session=session, keyword=\"tesla\", current_date=date_in_datetime)"
   ]
  },
  {
   "cell_type": "code",
   "execution_count": null,
   "metadata": {},
   "outputs": [],
   "source": []
  }
 ],
 "metadata": {
  "kernelspec": {
   "display_name": ".venv",
   "language": "python",
   "name": "python3"
  },
  "language_info": {
   "codemirror_mode": {
    "name": "ipython",
    "version": 3
   },
   "file_extension": ".py",
   "mimetype": "text/x-python",
   "name": "python",
   "nbconvert_exporter": "python",
   "pygments_lexer": "ipython3",
   "version": "3.12.1"
  },
  "orig_nbformat": 4
 },
 "nbformat": 4,
 "nbformat_minor": 2
}
